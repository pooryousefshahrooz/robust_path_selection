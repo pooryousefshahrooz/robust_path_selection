{
 "cells": [
  {
   "cell_type": "code",
   "execution_count": null,
   "metadata": {},
   "outputs": [],
   "source": [
    "from __future__ import print_function\n",
    "\n",
    "import os\n",
    "import csv\n",
    "import numpy as np\n",
    "from absl import app\n",
    "from absl import flags\n",
    "\n",
    "import tensorflow as tf\n",
    "from env import Environment\n",
    "from game import CFRRL_Game\n",
    "from model import Network\n",
    "from config import get_config"
   ]
  },
  {
   "cell_type": "code",
   "execution_count": null,
   "metadata": {},
   "outputs": [],
   "source": [
    "\n",
    "\n",
    "FLAGS = flags.FLAGS\n",
    "flags.DEFINE_string('ckpt', '', 'apply a specific checkpoint')\n",
    "flags.DEFINE_boolean('eval_delay', False, 'evaluate delay or not')\n",
    "toplogy_t_solution_mlu_result = 'toplogy_t_solution_mlu_result.csv'\n",
    "# topology_name = 'abilene'\n",
    "time = 0\n",
    "def sim(config,game):\n",
    "    time = 0\n",
    "#     if not os.path.exists(toplogy_t_solution_mlu_result):\n",
    "#         os.mknod(toplogy_t_solution_mlu_result)\n",
    "#     with open(toplogy_t_solution_mlu_result, 'a') as newFile:                                \n",
    "#             newFileWriter = csv.writer(newFile)\n",
    "#             #print('flow index %s from node %s to the next node %s ratio %s'%(item[0],item[1],item[2],v))\n",
    "#             newFileWriter.writerow(['topology_name','time/trafic_matrix_id','flow_id','from_node','to_node','ratio','optimal_mlu'])\n",
    "\n",
    "    for tm_idx in game.tm_indexes:\n",
    "        _, solution = game.optimal_routing_mlu(tm_idx)\n",
    "        optimal_mlu, optimal_mlu_delay = game.eval_optimal_routing_mlu(tm_idx, solution, eval_delay=False)\n",
    "#         with open(toplogy_t_solution_mlu_result, 'a') as newFile:                                \n",
    "#             newFileWriter = csv.writer(newFile)\n",
    "#             for item,v in solution.items():\n",
    "#                 #print('flow index %s from node %s to the next node %s ratio %s'%(item[0],item[1],item[2],v))\n",
    "#                 newFileWriter.writerow([config.topology_file,time,item[0],item[1],item[2],v,round(optimal_mlu,3)]) #50_04:00:05.606476,0,1000,\"3320,6724\",link_down_reverse\n",
    "        time+=1\n",
    "        \n",
    "        print('done %s from %s mlu %s'%(time,len(game.tm_indexes),round(optimal_mlu,3)))\n",
    "        import pdb\n",
    "        pdb.set_trace()\n",
    "        #game.evaluate(tm_idx, actions, eval_delay=FLAGS.eval_delay) \n",
    "\n",
    "def main(_):\n",
    "    #Using cpu for testing\n",
    "    tf.config.experimental.set_visible_devices([], 'GPU')\n",
    "    tf.get_logger().setLevel('INFO')\n",
    "\n",
    "    config = get_config(FLAGS) or FLAGS\n",
    "    env = Environment(config, is_training=False)\n",
    "    game = CFRRL_Game(config, env)\n",
    "    network = Network(config, game.state_dims, game.action_dim, game.max_moves)\n",
    "\n",
    "    sim(config,game)\n",
    "\n",
    "\n",
    "if __name__ == '__main__':\n",
    "    app.run(main)\n"
   ]
  },
  {
   "cell_type": "code",
   "execution_count": null,
   "metadata": {},
   "outputs": [],
   "source": [
    "F1= 0.8\n",
    "F2= 0.838150289017341\n",
    "# F = 0.8\n",
    "# Fp = (F*F +1/9 * (1-F) *(1-F))/ (F *F + 2/3 * F*(1-F)+5/9*(1-F) *(1-F))\n",
    "# print(Fp)\n",
    "\n",
    "\n",
    "Fp2 = (F1 *F2 + 1/9 *(1-F1)*(1-F2)) / (F1 *F2 + 1/3 *F1*(1-F2)+1/3 *F2*(1-F1)+5/9*(1-F1)*(1-F2))\n",
    "print(Fp2)"
   ]
  },
  {
   "cell_type": "code",
   "execution_count": null,
   "metadata": {},
   "outputs": [],
   "source": [
    "F_t1 = 0.8559778176480184\n",
    "F_store = 0.838150289017341"
   ]
  },
  {
   "cell_type": "code",
   "execution_count": null,
   "metadata": {},
   "outputs": [],
   "source": [
    "avg_F_approach2 = ((2* 0.8 + 0.8559778176480184+0.8559778176480184)/4+0.8559778176480184)/2\n",
    "print(avg_F_approach2)"
   ]
  },
  {
   "cell_type": "code",
   "execution_count": null,
   "metadata": {},
   "outputs": [],
   "source": [
    "(0.8559778176480184  + 0.8) /2"
   ]
  },
  {
   "cell_type": "code",
   "execution_count": null,
   "metadata": {},
   "outputs": [],
   "source": [
    "(0.838150289017341 + (1 * 0.838150289017341 + 3 * 0.8 )/4 )/2"
   ]
  },
  {
   "cell_type": "code",
   "execution_count": null,
   "metadata": {},
   "outputs": [],
   "source": [
    "# F_t1 = 0.8559778176480184\n",
    "# F_t2 = 0.8\n",
    "# F_approach1 = (0.8+0.8559778176480184)/2\n",
    "# print(F_approach1)#0.8279889088240092\n",
    "# print()"
   ]
  },
  {
   "cell_type": "code",
   "execution_count": null,
   "metadata": {},
   "outputs": [],
   "source": []
  },
  {
   "cell_type": "code",
   "execution_count": null,
   "metadata": {},
   "outputs": [],
   "source": []
  },
  {
   "cell_type": "code",
   "execution_count": null,
   "metadata": {},
   "outputs": [],
   "source": []
  },
  {
   "cell_type": "code",
   "execution_count": null,
   "metadata": {},
   "outputs": [],
   "source": []
  },
  {
   "cell_type": "code",
   "execution_count": 6,
   "metadata": {},
   "outputs": [
    {
     "name": "stdout",
     "output_type": "stream",
     "text": [
      "144\n",
      "16\n"
     ]
    }
   ],
   "source": [
    "string = \"1.0000000e+04 1.9582800e+05 6.1550200e+05 1.2589800e+05 1.5488700e+05 1.8370300e+05 1.3690400e+05 3.0670100e+05 1.6952300e+05 2.8027700e+05 1.4561900e+05 1.1781150e+06 1.6693100e+05 3.0997781e+07 6.1061690e+06 1.9383880e+06 1.4742760e+06 1.0256961e+07 1.8165130e+06 6.8369660e+06 4.8014830e+06 5.3320800e+05 3.3590560e+06 1.9405592e+07 1.4226350e+06 4.7757470e+06 1.0779162e+07 5.1518450e+06 3.6863760e+06 9.8849160e+06 2.4516560e+06 1.0415963e+07 5.2868770e+06 6.8135300e+05 1.6857210e+06 3.9926450e+06 8.6552000e+04 8.7805600e+05 1.4444321e+07 1.4107460e+06 3.1532860e+06 2.7029030e+06 1.4808370e+06 8.0158380e+06 2.1462780e+06 5.3945490e+06 3.9785490e+06 4.5933230e+06 8.9641000e+04 1.1087920e+06 6.3343130e+06 1.3848820e+06 2.1023620e+06 3.4289640e+06 2.6738130e+06 3.6921723e+07 2.7244740e+06 1.1052660e+06 8.3909900e+05 3.1899940e+06 1.7875970e+06 3.4705250e+06 4.5766716e+07 8.0168240e+06 1.2440169e+07 8.5683960e+06 3.7090650e+06 9.1518910e+06 1.5231037e+07 1.2998950e+06 5.2095700e+06 1.5426785e+07 1.5786000e+05 1.6663360e+06 1.0114602e+07 2.0228640e+06 2.0535390e+06 3.0066590e+06 1.5085870e+06 3.2525940e+06 4.8159040e+06 4.5890700e+05 9.1660200e+05 4.5181640e+06 1.2737300e+05 7.2729710e+06 3.3646381e+07 3.3897680e+06 3.3865750e+06 1.6020094e+07 5.0888440e+06 4.2634240e+06 2.2936657e+07 8.6682800e+05 9.5697950e+06 2.0897395e+07 1.4616150e+06 1.5332940e+07 2.0127858e+07 6.1293950e+06 8.9954200e+06 3.1247043e+07 9.2877310e+06 2.6633460e+07 5.1298517e+07 3.5967570e+06 8.2254590e+06 4.1947778e+07 1.0000000e+04 3.9045200e+05 1.8922750e+06 3.9025920e+06 5.3875600e+05 1.4481040e+06 7.8640200e+05 7.5007900e+05 8.2929800e+05 5.3511030e+06 1.2366180e+06 7.4539000e+05 4.1632000e+04 5.9555800e+06 8.4422200e+06 1.6279410e+06 4.2385380e+06 2.8841940e+06 8.4781800e+05 6.6623900e+06 9.3170150e+06 1.7831270e+06 3.8938400e+05 3.9440170e+06 4.2071630e+06 4.7226648e+07 2.4952949e+07 1.3523783e+07 5.7897420e+06 2.3543180e+07 1.2241025e+07 3.4378360e+07 5.0123027e+07 7.4271600e+05 1.1160076e+07 7.0370056e+07\"\n",
    "my_list = string.split(\" \")\n",
    "print(len(my_list))\n",
    "\n",
    "\n",
    "string = \"1000 1000 1000 1000 1000 1000 1000 1000 1000 1000 1000 1000 1000 1000 1000 1000\"\n",
    "my_list = string.split(\" \")\n",
    "print(len(my_list))\n",
    "\n"
   ]
  },
  {
   "cell_type": "code",
   "execution_count": 9,
   "metadata": {},
   "outputs": [
    {
     "ename": "SyntaxError",
     "evalue": "invalid syntax (<ipython-input-9-66a3be0e114d>, line 13)",
     "output_type": "error",
     "traceback": [
      "\u001b[0;36m  File \u001b[0;32m\"<ipython-input-9-66a3be0e114d>\"\u001b[0;36m, line \u001b[0;32m13\u001b[0m\n\u001b[0;31m    model +=(ratio[pr, edge[0], edge[1]]=0.0)\u001b[0m\n\u001b[0m                                        ^\u001b[0m\n\u001b[0;31mSyntaxError\u001b[0m\u001b[0;31m:\u001b[0m invalid syntax\n"
     ]
    }
   ],
   "source": [
    "# done 1 from 1 mlu 26.667\n",
    "each_flow_edges = {0:[(0,1)],1:[(0,2)],2:[(0,1),(1,3)],\n",
    "                          3:[(1,0)],4:[(1,0),(0,2)],5:[(1,3)],6:[(2,0)],\n",
    "                          7:[(2,0),(0,1)],8:[(2,3)],9:[(3,1),(1,0)],10:[(3,1)],11:[(3,2)]\n",
    "                          }\n",
    "ratio = {}\n",
    "lp_links = [(0, 1), (0, 2), (1, 3), (2, 3), (1, 0), (2, 0), (3, 1), (3, 2)]\n",
    "lp_pairs = [0, 1, 2, 3, 4, 5, 6, 7, 8, 9, 10, 11]\n",
    "for pr in lp_pairs:\n",
    "    for edge in lp_links:\n",
    "        if (edge[0],edge[1]) not in each_flow_edges[pr]:\n",
    "#             ratio[pr, edge[0], edge[1]]=0    \n",
    "            model +=(ratio[pr, edge[0], edge[1]]=0.0)\n"
   ]
  },
  {
   "cell_type": "code",
   "execution_count": null,
   "metadata": {},
   "outputs": [],
   "source": []
  },
  {
   "cell_type": "code",
   "execution_count": null,
   "metadata": {},
   "outputs": [],
   "source": []
  }
 ],
 "metadata": {
  "kernelspec": {
   "display_name": "Python 3 (ipykernel)",
   "language": "python",
   "name": "python3"
  },
  "language_info": {
   "codemirror_mode": {
    "name": "ipython",
    "version": 3
   },
   "file_extension": ".py",
   "mimetype": "text/x-python",
   "name": "python",
   "nbconvert_exporter": "python",
   "pygments_lexer": "ipython3",
   "version": "3.7.3"
  }
 },
 "nbformat": 4,
 "nbformat_minor": 2
}
